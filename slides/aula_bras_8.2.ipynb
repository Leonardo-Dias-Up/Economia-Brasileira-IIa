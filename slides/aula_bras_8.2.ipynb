{
 "cells": [
  {
   "cell_type": "markdown",
   "metadata": {
    "slideshow": {
     "slide_type": "slide"
    }
   },
   "source": [
    "## <center>Economia Brasileira I - FEA-USP</center>\n",
    "\n",
    "### <center>Aula 8 - Planos de Estabilização (parte 2)</center>\n",
    "\n",
    "#### <center>Renato Perim Colistete</center>\n",
    "\n",
    "\n",
    "#### <center>2022</center>  "
   ]
  },
  {
   "cell_type": "markdown",
   "metadata": {
    "heading_collapsed": true,
    "slideshow": {
     "slide_type": "slide"
    }
   },
   "source": [
    "## Objetivos\n",
    "\n",
    "Analisaremos hoje o segundo plano de estabilização “heterodoxo” da década de 1980: o Plano Bresser.\n",
    "\n",
    "Nesse Plano houve tentativa explícita de extrair lições do que foram considerados os erros do Cruzado em 1986.\n",
    "\n",
    "Não obstante, a estratégia do Plano Bresser também baseou-se no mesmo congelamento de preços implementado no Cruzado."
   ]
  },
  {
   "cell_type": "markdown",
   "metadata": {
    "slideshow": {
     "slide_type": "slide"
    }
   },
   "source": [
    "## Contexto\n",
    "\n",
    "A saída de [Dilson Funaro](http://www.fgv.br/cpdoc/acervo/dicionarios/verbete-biografico/dilson-domingos-funaro) em abril de 1987 deu lugar a [Luis Carlos Bresser Pereira](http://www.fgv.br/cpdoc/acervo/dicionarios/verbete-biografico/luis-carlos-bresser-goncalves-pereira) no Ministério da Fazenda. Em junho de 1987, Bresser Pereira anunciou o segundo plano de estabilização da Nova República."
   ]
  },
  {
   "cell_type": "markdown",
   "metadata": {
    "slideshow": {
     "slide_type": "fragment"
    }
   },
   "source": [
    "O novo plano teve suas regras definidas pelo [Decreto Lei no. 2.335 de 12 de junho de 1987](http://legis.senado.leg.br/norma/527283/publicacao/15802391). Veja os detalhes do Plano no link."
   ]
  },
  {
   "cell_type": "markdown",
   "metadata": {
    "slideshow": {
     "slide_type": "fragment"
    }
   },
   "source": [
    "O Plano Bresser repetiu a fórmula do congelamento de preços do Cruzado, mas com regras de saída, medidas de desindexação, restrições monetárias e novo foco sobre o déficit público. "
   ]
  },
  {
   "cell_type": "markdown",
   "metadata": {
    "slideshow": {
     "slide_type": "slide"
    }
   },
   "source": [
    "## Preços\n",
    "\n",
    "As medidas do Plano Bresser foram distribuídas em duas fases básicas: *um período de congelamento seguido por uma fase de flexibilização*. Vejamos os principais pontos."
   ]
  },
  {
   "cell_type": "markdown",
   "metadata": {
    "slideshow": {
     "slide_type": "fragment"
    }
   },
   "source": [
    "**Congelamento por 90 dias dos preços de bens, serviços e tarifas** praticados em 12/6/1987. "
   ]
  },
  {
   "cell_type": "markdown",
   "metadata": {
    "slideshow": {
     "slide_type": "fragment"
    }
   },
   "source": [
    "Observe-se, porém, que o congelamento foi informalmente precedido por reajustes de preços públicos e administrados: p. ex., 45% para eletricidade, 32% para o aço, 13% para combustíveis. "
   ]
  },
  {
   "cell_type": "markdown",
   "metadata": {
    "slideshow": {
     "slide_type": "subslide"
    }
   },
   "source": [
    "O objetivo foi reduzir subsídios e defasagens de preços públicos visando recompor as receitas da União e estatais."
   ]
  },
  {
   "cell_type": "markdown",
   "metadata": {
    "slideshow": {
     "slide_type": "slide"
    }
   },
   "source": [
    "## URP e preços\n",
    "\n",
    "Instituiu-se a chamada **Unidade de Referência de Preços (URP)**, que seria utilizada para os reajustes de preços e salários na fase de flexibilização."
   ]
  },
  {
   "cell_type": "markdown",
   "metadata": {
    "slideshow": {
     "slide_type": "fragment"
    }
   },
   "source": [
    "A URP foi fixada em 15/6/1987 com base = 100."
   ]
  },
  {
   "cell_type": "markdown",
   "metadata": {
    "slideshow": {
     "slide_type": "fragment"
    }
   },
   "source": [
    "A fase de congelamento compreenderia *3 meses*: meses de julho, agosto e setembro de 1987."
   ]
  },
  {
   "cell_type": "markdown",
   "metadata": {
    "slideshow": {
     "slide_type": "slide"
    }
   },
   "source": [
    "## Flexibilização\n",
    "\n",
    "*Após o período de congelamento*, a URP seria reajustada nos três meses seguintes (flexibilização) pela média do IPC do trimestre anterior - ou seja, seria adotada a *pré-fixação dos reajustes* (antecipando: a *URP média foi de 4,7%* ao final dos três primeiros meses de congelamento). "
   ]
  },
  {
   "cell_type": "markdown",
   "metadata": {
    "slideshow": {
     "slide_type": "fragment"
    }
   },
   "source": [
    "Os reajustes de todos os preços teriam como teto a URP do respectivo mês e não poderiam ser mais frequentes do que uma vez por mês. "
   ]
  },
  {
   "cell_type": "markdown",
   "metadata": {
    "slideshow": {
     "slide_type": "fragment"
    }
   },
   "source": [
    "Na fase de flexibilização, os preços controlados (do setor privado inclusive) poderiam receber autorização de reajuste tendo em vista variações nos custos de produção e produtividade (note-se: sempre, em tese, após autorização do governo)."
   ]
  },
  {
   "cell_type": "markdown",
   "metadata": {
    "slideshow": {
     "slide_type": "slide"
    }
   },
   "source": [
    "## Preços e saída\n",
    "\n",
    "Além disso, nos 6 meses iniciais dessa fase de flexibilização, o governo poderia excepcionalmente autorizar reajustes com o fim de corrigir eventuais distorções de preços relativos por ocasião da data do congelamento."
   ]
  },
  {
   "cell_type": "markdown",
   "metadata": {
    "slideshow": {
     "slide_type": "fragment"
    }
   },
   "source": [
    "Quando terminaria a fase de flexibilização? Apenas quando se considerasse alcançada a estabilização de preços."
   ]
  },
  {
   "cell_type": "markdown",
   "metadata": {
    "slideshow": {
     "slide_type": "fragment"
    }
   },
   "source": [
    "Até lá, as remarcações de preços deveriam seguir (no máximo) o reajuste da URP pela média trimestral anterior e as demais regras."
   ]
  },
  {
   "cell_type": "markdown",
   "metadata": {
    "slideshow": {
     "slide_type": "slide"
    }
   },
   "source": [
    "## Salários\n",
    "\n",
    "E quanto aos salários? **Salários, vencimentos e outras remunerações de todas as categorias dos setores privado e público foram congelados** segundo o valor nominal na data geral do congelamento, 12/6/1987. "
   ]
  },
  {
   "cell_type": "markdown",
   "metadata": {
    "slideshow": {
     "slide_type": "fragment"
    }
   },
   "source": [
    "As regras salariais foram ainda mais complexas do que as dos preços."
   ]
  },
  {
   "cell_type": "markdown",
   "metadata": {
    "slideshow": {
     "slide_type": "fragment"
    }
   },
   "source": [
    "Os salários congelados incorporaram o reajuste de 20% acionado pela inflação de 23,5% de maio/1987, conforme ainda previsto pelo [Decreto-lei nº 2.302, de 21 de novembro de 1986](https://www2.camara.leg.br/legin/fed/declei/1980-1987/decreto-lei-2302-21-novembro-1986-349286-publicacaooriginal-1-pe.html) da época do Cruzado (conf. aula anterior)."
   ]
  },
  {
   "cell_type": "markdown",
   "metadata": {
    "slideshow": {
     "slide_type": "slide"
    }
   },
   "source": [
    "## Expurgo e flexibilização\n",
    "\n",
    "O resíduo inflacionário entre a regra de nov/1986 e a inflação (diferença de 23,5% e 20% do gatilho) seria pago em 6 parcelas após o fim do congelamento (a partir de out/1987). "
   ]
  },
  {
   "cell_type": "markdown",
   "metadata": {
    "slideshow": {
     "slide_type": "fragment"
    }
   },
   "source": [
    "Paralelamente, a inflação do mês de junho, de 26,1%, foi *expurgada*. A eliminação da inflação de junho levou a crescentes pressões por compensação nos meses seguintes pelos sindicatos."
   ]
  },
  {
   "cell_type": "markdown",
   "metadata": {
    "slideshow": {
     "slide_type": "fragment"
    }
   },
   "source": [
    "Após os três meses do congelamento, os salários passariam a ser reajustados (indexados) pela média da URP (do IPC dos três meses anteriores) a título de antecipação, compensável na data base (anual) das categorias de trabalhadores. "
   ]
  },
  {
   "cell_type": "markdown",
   "metadata": {
    "slideshow": {
     "slide_type": "slide"
    }
   },
   "source": [
    "## Defasagem\n",
    "\n",
    "Portanto, tal como em relação aos preços, o Plano estabeleceu que o reajuste dos salários após o fim do congelamento seria pré-fixado nos três meses seguintes (ou seja, salários também seriam reajustados pela *URP média de 4,7%* nos três meses iniciais após o congelamento). "
   ]
  },
  {
   "cell_type": "markdown",
   "metadata": {
    "slideshow": {
     "slide_type": "fragment"
    }
   },
   "source": [
    "A *escala móvel*, criada no Plano Cruzado, foi eliminada das regras salariais."
   ]
  },
  {
   "cell_type": "markdown",
   "metadata": {
    "slideshow": {
     "slide_type": "fragment"
    }
   },
   "source": [
    "O diagnóstico foi de que o Plano Cruzado havia sido minado pelo aumento dos salários e da demanda, motivo pelo qual seria necessário conter seu crescimento no novo programa de estabilização."
   ]
  },
  {
   "cell_type": "markdown",
   "metadata": {
    "slideshow": {
     "slide_type": "slide"
    }
   },
   "source": [
    "## Outras medidas\n",
    "\n",
    "Ao contrário do Cruzado, **não houve congelamento do câmbio**. O *Cruzado foi desvalorizado em 9,5%*, mantendo-se as *minidesvalorizações diárias introduzidas em nov/1986*;"
   ]
  },
  {
   "cell_type": "markdown",
   "metadata": {
    "slideshow": {
     "slide_type": "fragment"
    }
   },
   "source": [
    "Foi adotada nova *tablita* para deflacionar os valores dos contratos definidos em Cruzados entre 1/1/1987 a 15/6/1987, com fator de deflação diário e cumulativo de 1,00467 (= expectativa inflacionária de 15% ao mês)."
   ]
  },
  {
   "cell_type": "markdown",
   "metadata": {
    "slideshow": {
     "slide_type": "fragment"
    }
   },
   "source": [
    "*Propostas* de meta de redução do déficit público de 6,7% do PIB para 3,5% do PIB; unificação dos orçamentos do governo; proibição de emissões para financiar o déficit; política monetária mais restritiva."
   ]
  },
  {
   "cell_type": "markdown",
   "metadata": {
    "slideshow": {
     "slide_type": "subslide"
    }
   },
   "source": [
    "Anúncio do Plano de Controle Macroeconômico em jul/1987, visando elevar a poupança pública de zero em 1987 para 5,3% em 1991, via corte nos gastos, elevação de tarifas, redução de subsídios e reforma tributária progressiva."
   ]
  },
  {
   "cell_type": "markdown",
   "metadata": {
    "slideshow": {
     "slide_type": "slide"
    }
   },
   "source": [
    "## Resultados\n",
    "\n",
    "Os resultados anti-inflacionários do Plano foram limitados: de um lado, a sua flexibilidade permitiu acomodar pressões por reajustes (p. ex., em ago/ 1987, foram autorizados 10% para alguns preços controlados)."
   ]
  },
  {
   "cell_type": "markdown",
   "metadata": {
    "slideshow": {
     "slide_type": "fragment"
    }
   },
   "source": [
    "Por outro lado, a baixa confiança desde o início na efetividade do congelamento e a incerteza quanto ao compromisso ou a capacidade do governo em relação às metas da política macroeconômica traduziram-se em remarcação de preços e demandas salariais fora das regras estabelecidas pelo Plano."
   ]
  },
  {
   "cell_type": "markdown",
   "metadata": {
    "slideshow": {
     "slide_type": "fragment"
    }
   },
   "source": [
    "P. ex., o ajuste das receitas do setor público via elevação de preços e tarifas e cortes de despesas e subsídios foi muito menor do que o programado: 1,2% do PIB contra 3,2% previstos."
   ]
  },
  {
   "cell_type": "markdown",
   "metadata": {
    "slideshow": {
     "slide_type": "slide"
    }
   },
   "source": [
    "## Mais resultados\n",
    "\n",
    "Os resultados das contas externas foram melhores em função da política cambial de minidesvalizações diárias. As exportações e o saldo da balança comercial elevaram-se substancialmente a partir de junho/1987 (aumento observado desde início do ano)."
   ]
  },
  {
   "cell_type": "markdown",
   "metadata": {
    "slideshow": {
     "slide_type": "fragment"
    }
   },
   "source": [
    "Ao final, a inflação alcançou 14,1% em dezembro de 1987 - contra a URP média pré-fixada de 4,7% ao mês. "
   ]
  },
  {
   "cell_type": "markdown",
   "metadata": {
    "slideshow": {
     "slide_type": "fragment"
    }
   },
   "source": [
    "Como os reajustes salariais pré-fixados entre out/dez 1987 também foram de 4,7% pela URP, o descompasso em relação aos preços gerou conflitos agudos e novas demandas salariais por todas as categorias. Já em dez/1987, Bresser deixou o ministério."
   ]
  },
  {
   "cell_type": "markdown",
   "metadata": {
    "slideshow": {
     "slide_type": "slide"
    }
   },
   "source": [
    "## Questões\n",
    "\n",
    "Descreva as medidas do Plano Bresser e o compare com o Plano Cruzado: quais foram as diferenças principais?\n",
    "\n",
    "Descreva as medidas fiscais e monetárias do Plano Bresser e avalie sua consistência com o objetivo de conter a escalada dos preços.\n",
    "\n",
    "É possível que os melhores resultados da balança comercial ao longo de 1987 tenham contribuído também para as dificuldades do controle da inflação? Como?"
   ]
  }
 ],
 "metadata": {
  "celltoolbar": "Slideshow",
  "kernelspec": {
   "display_name": "Python 3 (ipykernel)",
   "language": "python",
   "name": "python3"
  },
  "language_info": {
   "codemirror_mode": {
    "name": "ipython",
    "version": 3
   },
   "file_extension": ".py",
   "mimetype": "text/x-python",
   "name": "python",
   "nbconvert_exporter": "python",
   "pygments_lexer": "ipython3",
   "version": "3.9.12"
  },
  "toc": {
   "base_numbering": 1,
   "nav_menu": {},
   "number_sections": false,
   "sideBar": true,
   "skip_h1_title": false,
   "title_cell": "Table of Contents",
   "title_sidebar": "Contents",
   "toc_cell": false,
   "toc_position": {},
   "toc_section_display": true,
   "toc_window_display": false
  }
 },
 "nbformat": 4,
 "nbformat_minor": 2
}
